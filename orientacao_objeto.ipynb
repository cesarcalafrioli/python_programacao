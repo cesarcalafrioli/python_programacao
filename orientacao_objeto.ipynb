{
  "nbformat": 4,
  "nbformat_minor": 0,
  "metadata": {
    "colab": {
      "provenance": []
    },
    "kernelspec": {
      "name": "python3",
      "display_name": "Python 3"
    },
    "language_info": {
      "name": "python"
    }
  },
  "cells": [
    {
      "cell_type": "markdown",
      "source": [
        "# **Orientação  a objetos**"
      ],
      "metadata": {
        "id": "P1iWEygezaP5"
      }
    },
    {
      "cell_type": "code",
      "execution_count": 1,
      "metadata": {
        "id": "jGqJ4P721S3Y"
      },
      "outputs": [],
      "source": [
        "class Conta:\n",
        "\n",
        "    # Criando construtor usando uma função construtora\n",
        "    # Atributos com dois underscore (__) são atributos privados, ou seja, não podem ser acessados fora da classe\n",
        "    def __init__(self,numero, titular, saldo, limite = 1000.0):\n",
        "        print(\"Construindo objeto ... {}\".format(self))\n",
        "        self.__numero = numero\n",
        "        self.__titular = titular\n",
        "        self.__saldo = saldo\n",
        "        self.__limite = limite\n",
        "\n",
        "    def extrato(self):\n",
        "        print(\"Saldo de {} do titular {}\".format(self.__saldo, self.__titular))\n",
        "\n",
        "    def deposita(self, valor):\n",
        "        self.__saldo += valor\n",
        "\n",
        "    def __pode_sacar(self, valor_a_sacar):\n",
        "        valor_disponivel_a_sacar = self.__saldo + self.__limite\n",
        "        return valor_a_sacar <= valor_disponivel_a_sacar\n",
        "\n",
        "    def saca(self, valor):\n",
        "        if(self.__pode_sacar(valor)):\n",
        "            self.__saldo -= valor\n",
        "        else:\n",
        "            print(\"O valor {} passou o limite\".format(valor))\n",
        "\n",
        "    def transfere(self, valor, destino):\n",
        "        self.saca(valor)\n",
        "        destino.deposita(valor)\n",
        "\n",
        "    # Método get\n",
        "    def get_saldo(self):\n",
        "        return self.__saldo\n",
        "\n",
        "    # Método get\n",
        "    def get_titular(self):\n",
        "        return self.__titular\n",
        "\n",
        "    # Outra alternativa ao método get\n",
        "    @property\n",
        "    def limite(self):\n",
        "        return self.__limite\n",
        "\n",
        "    # Método set\n",
        "    @limite.setter\n",
        "    def limite(self, limite):\n",
        "        self.__limite = limite\n",
        "\n",
        "    @limite.setter\n",
        "    def limite(self, limite):\n",
        "        self.__limite = limite\n",
        "\n",
        "    # Método stático significa que você pode chamar um método sem precisar criar um objeto\n",
        "    @staticmethod\n",
        "    def codigo_banco():\n",
        "        return \"001\"\n",
        "\n",
        "    @staticmethod\n",
        "    def codigos_bancos():\n",
        "        return {'BB': '001', 'Caixa': '104', 'Bradesco': '237'}"
      ]
    },
    {
      "cell_type": "code",
      "source": [
        "conta = Conta(123, \"César\", 100, 1000)"
      ],
      "metadata": {
        "id": "MAqjR7Dz1pqL",
        "outputId": "ffe7953f-2325-4097-9d0a-2b767fd7a87f",
        "colab": {
          "base_uri": "https://localhost:8080/"
        }
      },
      "execution_count": 2,
      "outputs": [
        {
          "output_type": "stream",
          "name": "stdout",
          "text": [
            "Construindo objeto ... <__main__.Conta object at 0x7ff34c38bb20>\n"
          ]
        }
      ]
    },
    {
      "cell_type": "code",
      "source": [
        "conta.limite"
      ],
      "metadata": {
        "id": "kvlRbmp13aK-"
      },
      "execution_count": null,
      "outputs": []
    },
    {
      "cell_type": "code",
      "source": [
        "class Cliente:\n",
        "    def __init__(self, nome):\n",
        "        self.__nome = nome\n",
        "\n",
        "    # Método get\n",
        "    @property # Trata-se de uma propriedade, ou seja, não precisa colocar parênteses\n",
        "    def nome(self):\n",
        "        print(\"Chamando @property nome()\")\n",
        "        return self.__nome.title()\n",
        "\n",
        "    # Método set\n",
        "    @nome.setter\n",
        "    def nome(self, nome):\n",
        "        print(\"Chamando setter nome()\")\n",
        "        self.__nome = nome"
      ],
      "metadata": {
        "id": "6OuhDAvy3Ysg"
      },
      "execution_count": 4,
      "outputs": []
    },
    {
      "cell_type": "code",
      "source": [
        "cliente = Cliente(\"César\")"
      ],
      "metadata": {
        "id": "YCipRbG833DH"
      },
      "execution_count": 5,
      "outputs": []
    },
    {
      "cell_type": "code",
      "source": [
        "cliente.nome"
      ],
      "metadata": {
        "id": "HTFp8eUb368O",
        "outputId": "ef3dbeb2-e37d-48ce-ad5b-933eaeea27ce",
        "colab": {
          "base_uri": "https://localhost:8080/",
          "height": 54
        }
      },
      "execution_count": 6,
      "outputs": [
        {
          "output_type": "stream",
          "name": "stdout",
          "text": [
            "Chamando @property nome()\n"
          ]
        },
        {
          "output_type": "execute_result",
          "data": {
            "text/plain": [
              "'César'"
            ],
            "application/vnd.google.colaboratory.intrinsic+json": {
              "type": "string"
            }
          },
          "metadata": {},
          "execution_count": 6
        }
      ]
    }
  ]
}